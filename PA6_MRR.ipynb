{
 "cells": [
  {
   "cell_type": "markdown",
   "metadata": {},
   "source": [
    "# Programming Assignment 6\n",
    "\n",
    "**Author:** Molly Rovinski\n",
    "**Version:** 1.0\n",
    "**Semester:** Fall 2020"
   ]
  },
  {
   "cell_type": "markdown",
   "metadata": {},
   "source": [
    "**Problem A:** Create a 2-by-2 NumPy array with elements 10,20,30, and 40 in it."
   ]
  },
  {
   "cell_type": "code",
   "execution_count": 1,
   "metadata": {},
   "outputs": [
    {
     "name": "stdout",
     "output_type": "stream",
     "text": [
      "[[ 100  400]\n",
      " [ 900 1600]]\n"
     ]
    }
   ],
   "source": [
    "import numpy as np\n",
    "a = np.array([[10,20],[30,40]])\n",
    "print (a**2)"
   ]
  },
  {
   "cell_type": "code",
   "execution_count": 16,
   "metadata": {},
   "outputs": [
    {
     "name": "stdout",
     "output_type": "stream",
     "text": [
      "[[110 120]\n",
      " [130 140]]\n"
     ]
    }
   ],
   "source": [
    "b = 100\n",
    "print (a + b)"
   ]
  },
  {
   "cell_type": "code",
   "execution_count": 17,
   "metadata": {},
   "outputs": [
    {
     "name": "stdout",
     "output_type": "stream",
     "text": [
      "[[ 50 100]\n",
      " [150 200]]\n"
     ]
    }
   ],
   "source": [
    "c = 5\n",
    "print (a*c)"
   ]
  },
  {
   "cell_type": "code",
   "execution_count": 3,
   "metadata": {},
   "outputs": [
    {
     "name": "stdout",
     "output_type": "stream",
     "text": [
      "[[3.16227766 4.47213595]\n",
      " [5.47722558 6.32455532]]\n"
     ]
    }
   ],
   "source": [
    "print (a**(1/2))"
   ]
  },
  {
   "cell_type": "markdown",
   "metadata": {},
   "source": [
    "**Problem B:** Create a 3-by-3 array containing integers from 3 to 27 in multiples of 3. Create a 3-by-3 array with 9 elements evenly spaced between 10 and 20. Multiply them together."
   ]
  },
  {
   "cell_type": "code",
   "execution_count": 11,
   "metadata": {},
   "outputs": [
    {
     "name": "stdout",
     "output_type": "stream",
     "text": [
      "[[ 3  6  9]\n",
      " [12 15 18]\n",
      " [21 24 27]]\n"
     ]
    }
   ],
   "source": [
    "x = np.arange (3,28)\n",
    "n = x[(x % 3 ==0)]\n",
    "d = np.array (n). reshape((3,3))\n",
    "print (d)"
   ]
  },
  {
   "cell_type": "code",
   "execution_count": 12,
   "metadata": {},
   "outputs": [
    {
     "name": "stdout",
     "output_type": "stream",
     "text": [
      "[[11 12 13]\n",
      " [14 15 16]\n",
      " [17 18 19]]\n"
     ]
    }
   ],
   "source": [
    "y = np.arange (11,20)\n",
    "f = np.array(y). reshape((3,3))\n",
    "print (f)"
   ]
  },
  {
   "cell_type": "code",
   "execution_count": 13,
   "metadata": {},
   "outputs": [
    {
     "name": "stdout",
     "output_type": "stream",
     "text": [
      "[[ 33  72 117]\n",
      " [168 225 288]\n",
      " [357 432 513]]\n"
     ]
    }
   ],
   "source": [
    "print ((d * f))"
   ]
  },
  {
   "cell_type": "markdown",
   "metadata": {},
   "source": [
    "**Problem C:** Create a 5-by-5 NumPy Array from the five attached .npy files. Calculate the mean of each column of data. "
   ]
  },
  {
   "cell_type": "code",
   "execution_count": 73,
   "metadata": {},
   "outputs": [],
   "source": [
    "d1 = np.load('process1.npy')"
   ]
  },
  {
   "cell_type": "code",
   "execution_count": 75,
   "metadata": {},
   "outputs": [],
   "source": [
    "d2 = np.load('process2.npy')"
   ]
  },
  {
   "cell_type": "code",
   "execution_count": 76,
   "metadata": {},
   "outputs": [],
   "source": [
    "d3 = np.load('process3.npy')"
   ]
  },
  {
   "cell_type": "code",
   "execution_count": 77,
   "metadata": {},
   "outputs": [],
   "source": [
    "d4 = np.load('process4.npy')"
   ]
  },
  {
   "cell_type": "code",
   "execution_count": 78,
   "metadata": {},
   "outputs": [],
   "source": [
    "d5 = np.load('process5.npy')"
   ]
  },
  {
   "cell_type": "code",
   "execution_count": 80,
   "metadata": {},
   "outputs": [
    {
     "name": "stdout",
     "output_type": "stream",
     "text": [
      "[[52 12 81  0 58]]\n",
      "[[96  4 61 16 43]]\n",
      "[[38 96 45 17 58]]\n",
      "[[97 21 22 25  6]]\n",
      "[[77  6 19  2 74]]\n"
     ]
    }
   ],
   "source": [
    "print (d1)\n",
    "print (d2)\n",
    "print (d3)\n",
    "print (d4)\n",
    "print (d5)"
   ]
  },
  {
   "cell_type": "code",
   "execution_count": 92,
   "metadata": {},
   "outputs": [
    {
     "name": "stdout",
     "output_type": "stream",
     "text": [
      "[[[52 12 81  0 58]]\n",
      "\n",
      " [[96  4 61 16 43]]\n",
      "\n",
      " [[38 96 45 17 58]]\n",
      "\n",
      " [[97 21 22 25  6]]\n",
      "\n",
      " [[77  6 19  2 74]]]\n"
     ]
    }
   ],
   "source": [
    "data1 = np.stack([d1,d2,d3,d4,d5])\n",
    "print (data1)"
   ]
  },
  {
   "cell_type": "code",
   "execution_count": 100,
   "metadata": {},
   "outputs": [
    {
     "name": "stdout",
     "output_type": "stream",
     "text": [
      "[[72.  27.8 45.6 12.  47.8]]\n"
     ]
    }
   ],
   "source": [
    "print(np.mean(data1, axis=0))"
   ]
  }
 ],
 "metadata": {
  "kernelspec": {
   "display_name": "Python 3",
   "language": "python",
   "name": "python3"
  },
  "language_info": {
   "codemirror_mode": {
    "name": "ipython",
    "version": 3
   },
   "file_extension": ".py",
   "mimetype": "text/x-python",
   "name": "python",
   "nbconvert_exporter": "python",
   "pygments_lexer": "ipython3",
   "version": "3.8.3"
  }
 },
 "nbformat": 4,
 "nbformat_minor": 4
}
